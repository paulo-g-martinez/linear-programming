{
 "cells": [
  {
   "cell_type": "markdown",
   "metadata": {},
   "source": [
    "# Linear Programming, Optimization\n",
    "**Fundamental theorem of linear programming**\n",
    "\"... Any linear program either is infeasible, is unbounded, or has an optimal solution with a finite objective value. In each case, [the algorithm] SIMPLEX acts appropriately.\" I.e. simplex will return an optimal solution or 'unbounded' or 'infeasible.' \n",
    "- *Introduction to Algorithms*, Third Edition, Cormen, Leirson, Rivest and Stein, 2009, MIT, Cambridge, Massachussetts, pg. 891\n",
    "\n",
    "*Note:*\n",
    "- \"The Simplex algorithm does not run in polynomial time in the wors case, but it is fairly efficient and widely used in practice.\" (Ibid, 864)\n",
    "\n",
    "😎 **In other words:** *If you can formulate a problem as a system of linear equations, and you have more than two variables (dimensions) then the simplex algorithm is probably your best bet to solving it.*"
   ]
  },
  {
   "cell_type": "markdown",
   "metadata": {},
   "source": [
    "## Contents:\n",
    "- pending completion"
   ]
  },
  {
   "cell_type": "markdown",
   "metadata": {},
   "source": [
    "## Basic Example: Optimizing farming profit\n",
    "Suppose a farmer has 240 acres of land. \n",
    "- they can farm corn for a profit of \\$40/acre and time cost of 2hr/acre\n",
    "- they can farm oats for a profit of \\$30/acre and time cost of 1hr/acre\n",
    "- they only have 320 farmable hours before harvest is due\n",
    "\n",
    "How many acres of each should they plant to maximize profits?"
   ]
  },
  {
   "cell_type": "markdown",
   "metadata": {},
   "source": [
    "### We formulate the word problem as a linear program\n",
    "\n",
    "**Objective function: **profits = `p = 40*c + 30*o`\n",
    "\n",
    "subject to:\n",
    "\n",
    "**Constraint 1:** `c + o <= 240` total acres farmed \n",
    "\n",
    "**Constraint 2:** `2c + o <= 320` total hours farmed\n",
    "\n",
    "**Constraint 3:** `c, o >= 0` because they can't farm negative acres \n",
    "\n",
    "### We can graph the system of linear equations and constraints"
   ]
  },
  {
   "cell_type": "code",
   "execution_count": 8,
   "metadata": {},
   "outputs": [],
   "source": [
    "import plotly.plotly as py\n",
    "import plotly.graph_objs as go"
   ]
  },
  {
   "cell_type": "code",
   "execution_count": 39,
   "metadata": {},
   "outputs": [],
   "source": [
    "acres = [a for a in range(0, 240)] #we only include non-negative values since we can't farm negative acres.\n",
    "    # notice the non-negativity constraint (i.e. constraint 3) is baked into the code here\n",
    "acres_trace = go.Scatter(\n",
    "    x = acres,\n",
    "    y = [240 - a for a in acres], # for y <= 240 - x\n",
    "    fill = 'tozeroy',\n",
    "    name = 'farmable acres'\n",
    "    \n",
    ")\n",
    "data = [acres_trace]\n",
    "layout = go.Layout(\n",
    "    title = 'Feasible Solution Area',\n",
    "    xaxis = {'title': 'acres of corn'},\n",
    "    yaxis = {'title': 'acres of oats'},\n",
    "    showlegend = True,\n",
    ")\n",
    "fig = go.Figure(data = data, layout = layout)"
   ]
  },
  {
   "cell_type": "markdown",
   "metadata": {},
   "source": [
    "#### We'll start by graphing the solution space for the number of farmable acres"
   ]
  },
  {
   "cell_type": "code",
   "execution_count": 40,
   "metadata": {},
   "outputs": [
    {
     "data": {
      "text/html": [
       "<iframe id=\"igraph\" scrolling=\"no\" style=\"border:none;\" seamless=\"seamless\" src=\"https://plot.ly/~martipg1/124.embed\" height=\"525px\" width=\"100%\"></iframe>"
      ],
      "text/plain": [
       "<plotly.tools.PlotlyDisplay object>"
      ]
     },
     "execution_count": 40,
     "metadata": {},
     "output_type": "execute_result"
    }
   ],
   "source": [
    "py.iplot(fig, filename = 'linear-programming', \n",
    "                   fileopt = 'overwrite', sharing = 'public',\n",
    "                  )"
   ]
  },
  {
   "cell_type": "markdown",
   "metadata": {},
   "source": [
    "#### We add the constraint of farmable hours"
   ]
  },
  {
   "cell_type": "code",
   "execution_count": 43,
   "metadata": {},
   "outputs": [],
   "source": [
    "hours = [h for h in range(0, 320)]\n",
    "hours_trace = go.Scatter(\n",
    "    x = hours,\n",
    "    # y <= 320 - 2x\n",
    "    y = [320 - 2*h for h in hours if 320 - 2*h >= 0], \n",
    "        #we add the conditional to the list comprehension to satisfy the non-negativity constraint\n",
    "    fill = 'tozeroy',\n",
    "    name = 'farmable hours',\n",
    ")\n",
    "\n",
    "data = [acres_trace, hours_trace]\n",
    "layout = go.Layout(\n",
    "    title = 'Feasible Solution Area',\n",
    "    xaxis = {'title': 'acres of corn'},\n",
    "    yaxis = {'title': 'acres of oats'},\n",
    "    showlegend = True,\n",
    ")\n",
    "fig = go.Figure(data = data, layout = layout)"
   ]
  },
  {
   "cell_type": "markdown",
   "metadata": {},
   "source": [
    "####  And overlay the plot of it's solution space onto the first constraint"
   ]
  },
  {
   "cell_type": "code",
   "execution_count": 42,
   "metadata": {},
   "outputs": [
    {
     "data": {
      "text/html": [
       "<iframe id=\"igraph\" scrolling=\"no\" style=\"border:none;\" seamless=\"seamless\" src=\"https://plot.ly/~martipg1/124.embed\" height=\"525px\" width=\"100%\"></iframe>"
      ],
      "text/plain": [
       "<plotly.tools.PlotlyDisplay object>"
      ]
     },
     "execution_count": 42,
     "metadata": {},
     "output_type": "execute_result"
    }
   ],
   "source": [
    "py.iplot(fig, filename = 'linear-programming', \n",
    "                   fileopt = 'overwrite', sharing = 'public',\n",
    "                  )"
   ]
  },
  {
   "cell_type": "markdown",
   "metadata": {},
   "source": [
    "Notice the intersection of the solution spaces is a solution space to the system of equations resulting from combining both constraints"
   ]
  },
  {
   "cell_type": "markdown",
   "metadata": {},
   "source": [
    "### Now we add the objective function to the system\n",
    "`p = 40c + 30o`, substitutting corn for x and oats for y we can isolate y for a version of the familiar **y = mx + b** => `p = 40x + 30y` => `y = (p/30) - (40/30)x` \n",
    "\n",
    "substitute the constant for the slope intercebt `b` we get\n",
    "\n",
    "=> `y = b - (4/3)x`"
   ]
  },
  {
   "cell_type": "code",
   "execution_count": null,
   "metadata": {},
   "outputs": [],
   "source": []
  },
  {
   "cell_type": "code",
   "execution_count": null,
   "metadata": {},
   "outputs": [],
   "source": []
  },
  {
   "cell_type": "code",
   "execution_count": null,
   "metadata": {},
   "outputs": [],
   "source": []
  },
  {
   "cell_type": "code",
   "execution_count": null,
   "metadata": {},
   "outputs": [],
   "source": []
  },
  {
   "cell_type": "code",
   "execution_count": null,
   "metadata": {},
   "outputs": [],
   "source": []
  },
  {
   "cell_type": "code",
   "execution_count": null,
   "metadata": {},
   "outputs": [],
   "source": []
  },
  {
   "cell_type": "code",
   "execution_count": null,
   "metadata": {},
   "outputs": [],
   "source": []
  },
  {
   "cell_type": "code",
   "execution_count": null,
   "metadata": {},
   "outputs": [],
   "source": []
  },
  {
   "cell_type": "markdown",
   "metadata": {},
   "source": [
    "## Example Word Problem, Integer Programming:\n",
    "### Capital Budgeting?\n",
    "Suppose you need to buy as many notebooks as possible with a given budget ```n```. And notebooks are sold in \"bundles\" where each bundle has an integer quantity of books , ```q```, for an integer cost ```c```.\n",
    "\n",
    "Input format:\n",
    "1. n - an integer representing your budget\n",
    "    - ex: 807\n",
    "2. bundleQuantities - an array of length ```m``` of positive integers representing book quantities in each bundle\n",
    "    - ex: [176,  98, 105,  65,  61,  30, 113,  60,  67,  80]\n",
    "3. bundleCosts - an array of length ```m``` of positive integers representing book quantities in each bundle\n",
    "    - ex: [194, 180,   1, 143, 131,  30,  73,  93,  55, 178]\n",
    "    \n",
    "#### Write a function buyBooks(n, bundleQuantities, bundleCosts) which returns an integer representing the maximum number of books you can buy.\n",
    "\n",
    "Constraints:\n",
    "1. You can only buy whole numbers of bundles\n",
    "2. You can't buy \"negative\" bundles\n",
    "3. 0< n, m, q, b <= cap\n",
    "\n"
   ]
  },
  {
   "cell_type": "code",
   "execution_count": 66,
   "metadata": {},
   "outputs": [],
   "source": [
    "import pandas as pd"
   ]
  },
  {
   "cell_type": "code",
   "execution_count": 67,
   "metadata": {},
   "outputs": [],
   "source": [
    "import numpy as np"
   ]
  },
  {
   "cell_type": "markdown",
   "metadata": {},
   "source": [
    "## initialize values"
   ]
  },
  {
   "cell_type": "code",
   "execution_count": 68,
   "metadata": {},
   "outputs": [],
   "source": [
    "# set random seed for reproducible results\n",
    "np.random.seed(seed = 57)"
   ]
  },
  {
   "cell_type": "code",
   "execution_count": 69,
   "metadata": {},
   "outputs": [
    {
     "name": "stdout",
     "output_type": "stream",
     "text": [
      "budget is:  976\n",
      "array length is:  727\n"
     ]
    }
   ],
   "source": [
    "# generate budget, and array lengths\n",
    "cap = 1000\n",
    "n = np.random.randint(1, cap)\n",
    "print('budget is: ', n)\n",
    "m = np.random.randint(1, cap)\n",
    "print('array length is: ', m)"
   ]
  },
  {
   "cell_type": "code",
   "execution_count": 70,
   "metadata": {},
   "outputs": [
    {
     "data": {
      "text/plain": [
       "array([  6, 407,  80, 633,  99, 697,  41, 722, 888, 506])"
      ]
     },
     "execution_count": 70,
     "metadata": {},
     "output_type": "execute_result"
    }
   ],
   "source": [
    "bundleQuantities = np.random.randint(1, cap, size = m)\n",
    "bundleQuantities[0:10]"
   ]
  },
  {
   "cell_type": "code",
   "execution_count": 71,
   "metadata": {},
   "outputs": [
    {
     "data": {
      "text/plain": [
       "array([184, 973, 918, 484, 704, 837, 396, 329, 406, 536])"
      ]
     },
     "execution_count": 71,
     "metadata": {},
     "output_type": "execute_result"
    }
   ],
   "source": [
    "bundleCosts = np.random.randint(1,cap, size = m)\n",
    "bundleCosts[0:10]"
   ]
  },
  {
   "cell_type": "code",
   "execution_count": 72,
   "metadata": {},
   "outputs": [
    {
     "data": {
      "text/plain": [
       "[30, 407, 80, 1266, 99, 697, 82, 1444, 1776, 506]"
      ]
     },
     "execution_count": 72,
     "metadata": {},
     "output_type": "execute_result"
    }
   ],
   "source": [
    "books_purchasable = [int(n/bc)*bq for bc,bq in zip(bundleCosts, bundleQuantities)]\n",
    "books_purchasable[0:10]"
   ]
  },
  {
   "cell_type": "code",
   "execution_count": 73,
   "metadata": {},
   "outputs": [
    {
     "data": {
      "text/plain": [
       "329400"
      ]
     },
     "execution_count": 73,
     "metadata": {},
     "output_type": "execute_result"
    }
   ],
   "source": [
    "max_books_purchased = max(books_purchasable)\n",
    "max_books_purchased"
   ]
  },
  {
   "cell_type": "code",
   "execution_count": 74,
   "metadata": {},
   "outputs": [
    {
     "data": {
      "text/plain": [
       "248"
      ]
     },
     "execution_count": 74,
     "metadata": {},
     "output_type": "execute_result"
    }
   ],
   "source": [
    "for i in range(len(books_purchasable)):\n",
    "    if books_purchasable[i] == max(books_purchasable):\n",
    "        ix = i\n",
    "ix"
   ]
  },
  {
   "cell_type": "code",
   "execution_count": 75,
   "metadata": {},
   "outputs": [
    {
     "data": {
      "text/plain": [
       "974"
      ]
     },
     "execution_count": 75,
     "metadata": {},
     "output_type": "execute_result"
    }
   ],
   "source": [
    "change_remaining = n - bundleCosts[ix]\n",
    "change_remaining"
   ]
  },
  {
   "cell_type": "code",
   "execution_count": 65,
   "metadata": {},
   "outputs": [
    {
     "data": {
      "text/html": [
       "<div>\n",
       "<style scoped>\n",
       "    .dataframe tbody tr th:only-of-type {\n",
       "        vertical-align: middle;\n",
       "    }\n",
       "\n",
       "    .dataframe tbody tr th {\n",
       "        vertical-align: top;\n",
       "    }\n",
       "\n",
       "    .dataframe thead th {\n",
       "        text-align: right;\n",
       "    }\n",
       "</style>\n",
       "<table border=\"1\" class=\"dataframe\">\n",
       "  <thead>\n",
       "    <tr style=\"text-align: right;\">\n",
       "      <th></th>\n",
       "      <th>bdgt_1</th>\n",
       "      <th>bundle_qty</th>\n",
       "      <th>bundle_cst</th>\n",
       "      <th>bks_per_dollar</th>\n",
       "      <th>mx_bndls_1</th>\n",
       "      <th>mx_books1</th>\n",
       "      <th>exp_1</th>\n",
       "      <th>bdgt_2</th>\n",
       "    </tr>\n",
       "  </thead>\n",
       "  <tbody>\n",
       "    <tr>\n",
       "      <th>0</th>\n",
       "      <td>12579</td>\n",
       "      <td>3921</td>\n",
       "      <td>1406</td>\n",
       "      <td>2.788762</td>\n",
       "      <td>8</td>\n",
       "      <td>31368</td>\n",
       "      <td>11248</td>\n",
       "      <td>1331</td>\n",
       "    </tr>\n",
       "    <tr>\n",
       "      <th>1</th>\n",
       "      <td>12579</td>\n",
       "      <td>5550</td>\n",
       "      <td>1415</td>\n",
       "      <td>3.922261</td>\n",
       "      <td>8</td>\n",
       "      <td>44400</td>\n",
       "      <td>11320</td>\n",
       "      <td>1259</td>\n",
       "    </tr>\n",
       "    <tr>\n",
       "      <th>2</th>\n",
       "      <td>12579</td>\n",
       "      <td>4563</td>\n",
       "      <td>9624</td>\n",
       "      <td>0.474127</td>\n",
       "      <td>1</td>\n",
       "      <td>4563</td>\n",
       "      <td>9624</td>\n",
       "      <td>2955</td>\n",
       "    </tr>\n",
       "    <tr>\n",
       "      <th>3</th>\n",
       "      <td>12579</td>\n",
       "      <td>5267</td>\n",
       "      <td>7352</td>\n",
       "      <td>0.716404</td>\n",
       "      <td>1</td>\n",
       "      <td>5267</td>\n",
       "      <td>7352</td>\n",
       "      <td>5227</td>\n",
       "    </tr>\n",
       "    <tr>\n",
       "      <th>4</th>\n",
       "      <td>12579</td>\n",
       "      <td>7478</td>\n",
       "      <td>7377</td>\n",
       "      <td>1.013691</td>\n",
       "      <td>1</td>\n",
       "      <td>7478</td>\n",
       "      <td>7377</td>\n",
       "      <td>5202</td>\n",
       "    </tr>\n",
       "  </tbody>\n",
       "</table>\n",
       "</div>"
      ],
      "text/plain": [
       "   bdgt_1  bundle_qty  bundle_cst  bks_per_dollar  mx_bndls_1  mx_books1  \\\n",
       "0   12579        3921        1406        2.788762           8      31368   \n",
       "1   12579        5550        1415        3.922261           8      44400   \n",
       "2   12579        4563        9624        0.474127           1       4563   \n",
       "3   12579        5267        7352        0.716404           1       5267   \n",
       "4   12579        7478        7377        1.013691           1       7478   \n",
       "\n",
       "   exp_1  bdgt_2  \n",
       "0  11248    1331  \n",
       "1  11320    1259  \n",
       "2   9624    2955  \n",
       "3   7352    5227  \n",
       "4   7377    5202  "
      ]
     },
     "execution_count": 65,
     "metadata": {},
     "output_type": "execute_result"
    }
   ],
   "source": [
    "df = pd.DataFrame()\n",
    "df['bdgt_1'] = [n for i in range(len(bundleCosts))]\n",
    "df['bundle_qty'] = bundleQuantities\n",
    "df['bundle_cst'] = bundleCosts\n",
    "df['bks_per_dollar'] = df['bundle_qty']/df.bundle_cst\n",
    "df['mx_bndls_1'] = (df.bdgt_1/df.bundle_cst).apply(int)\n",
    "df['mx_books1'] = df.mx_bndls_1*df.bundle_qty\n",
    "df['exp_1'] = df.mx_bndls_1*df.bundle_cst\n",
    "df['bdgt_2'] = df.bdgt_1 - df.exp_1\n",
    "df.head()"
   ]
  },
  {
   "cell_type": "markdown",
   "metadata": {},
   "source": [
    "## naive maximization attempt\n",
    "Using greedy stepwise decisions"
   ]
  },
  {
   "cell_type": "code",
   "execution_count": 76,
   "metadata": {},
   "outputs": [],
   "source": [
    "def maximizeBooksStepwise(n, bq, bc, verbose = False):\n",
    "    '''Takes integer n, two integer arrays: bundleQuantities and \n",
    "    bundleCosts respectively (both of which are length m) and returns \n",
    "    integer sum of the max books purchasable at every iteration.\n",
    "    Note: This algorithm does not guarantee an optimal solution.\n",
    "    Ex: n = 510, bq = [500, 498, 3], bc = [500, 499, 12] has an optimal solution:\n",
    "    bq[1]+bq[2] > bq[0]\n",
    "    498 + 3 > 500\n",
    "    but maximizeBooksStepwise returns the solution\n",
    "    500. See algorithms on integer linear programming'''\n",
    "    books_purchased = 0\n",
    "    iteration = 0\n",
    "    while n >= min(bc): #while we can afford any of the packages #O(m)\n",
    "        bp = [int(n/c)*q for c,q in zip(bc, bq)] # max books purchasable for every bundle #O(m)\n",
    "        mbp = max(bp) #O(m)\n",
    "        if verbose:\n",
    "            iteration += 1\n",
    "            print(iteration, 'books_purchasable: ', bp[0:5], '...', bp[-5:])\n",
    "        if verbose:\n",
    "            print(iteration, 'purchased ', mbp, ' books')\n",
    "        books_purchased += mbp\n",
    "        if verbose:\n",
    "            print(iteration, 'for a running total of: ', books_purchased)\n",
    "        for i in range(len(bp)):\n",
    "            if bp[i] == mbp: #retrieve the index of max books purchasable at this iteration #O(m)\n",
    "                j = i\n",
    "                break\n",
    "        n = n - bc[j]*int(n/bc[j]) #adjust remaining budget\n",
    "        if verbose:\n",
    "            print(iteration, n, ' budget remaining')\n",
    "            print('-----------------------------')\n",
    "    return books_purchased"
   ]
  },
  {
   "cell_type": "code",
   "execution_count": 77,
   "metadata": {},
   "outputs": [
    {
     "name": "stdout",
     "output_type": "stream",
     "text": [
      "budget is:  10247\n",
      "array length is:  3197\n",
      "bundleQuantities[0:5] [1324 6513 9076 2908 5348]\n",
      "bundleCosts[0:5] [6380 9984 2358 6669   46]\n",
      "\n",
      "1 books_purchasable:  [1324, 6513, 36304, 2908, 1187256] ... [9560, 689, 3496, 8491, 128490]\n",
      "1 purchased  7862013  books\n",
      "1 for a running total of:  7862013\n",
      "1 2  budget remaining\n",
      "-----------------------------\n"
     ]
    },
    {
     "data": {
      "text/plain": [
       "7862013"
      ]
     },
     "execution_count": 77,
     "metadata": {},
     "output_type": "execute_result"
    }
   ],
   "source": [
    "# generate budget, and array lengths\n",
    "cap = 10000\n",
    "n = np.random.randint(cap, 2*cap)\n",
    "print('budget is: ', n)\n",
    "m = np.random.randint(1, cap)\n",
    "print('array length is: ', m)\n",
    "bundleQuantities = np.random.randint(1, cap, size = m)\n",
    "print('bundleQuantities[0:5]', bundleQuantities[:5])\n",
    "bundleCosts = np.random.randint(1,cap, size = m)\n",
    "print('bundleCosts[0:5]', bundleCosts[:5])\n",
    "print('')\n",
    "maximizeBooksStepwise(n, bundleQuantities, bundleCosts, verbose = True)"
   ]
  },
  {
   "cell_type": "markdown",
   "metadata": {},
   "source": [
    "## Using scipy.optimize.linprog()\n",
    "Non integral implementation"
   ]
  },
  {
   "cell_type": "code",
   "execution_count": 78,
   "metadata": {},
   "outputs": [],
   "source": [
    "from scipy.optimize import linprog"
   ]
  },
  {
   "cell_type": "code",
   "execution_count": 79,
   "metadata": {},
   "outputs": [
    {
     "name": "stdout",
     "output_type": "stream",
     "text": [
      "Optimization terminated successfully.\n",
      "         Current function value: -1572709.560000\n",
      "         Iterations: 1\n",
      "     fun: -1572709.56\n",
      " message: 'Optimization terminated successfully.'\n",
      "     nit: 1\n",
      "   slack: array([0.])\n",
      "  status: 0\n",
      " success: True\n",
      "       x: array([0., 0., 0., ..., 0., 0., 0.])\n"
     ]
    }
   ],
   "source": [
    "c = [-q/c for q,c in zip(bundleQuantities, bundleCosts)] # books/dolar coefficients\n",
    "    #notice we have negated the values in c because linprog minimizes the given objective function\n",
    "A = [bundleCosts] \n",
    "b = n # sum of Ax must be <= budget, n\n",
    "\n",
    "res = linprog(c, A_ub = A, b_ub = b, options = {\"disp\": True})\n",
    "print(res)"
   ]
  },
  {
   "cell_type": "markdown",
   "metadata": {},
   "source": [
    "**The Problem** is that scipy.optimize is using non-integral optimization. It's purchasing fractions of bundles (which is not allowed). So of course it can always outperform maximizeBooksStepwise\n",
    "- in essence: simplex is solving a different linear program than the one I am trying to solve\n",
    "\n",
    "According to wikipedia, we can not rely on the total unimodularity guarantee for the simplex algorithm. Since the c vector we're using isn't integral but also because A isn't totally unimodular."
   ]
  },
  {
   "cell_type": "markdown",
   "metadata": {},
   "source": [
    "## I'll need to use an algorithm for Integer Linear Programming"
   ]
  },
  {
   "cell_type": "code",
   "execution_count": null,
   "metadata": {},
   "outputs": [],
   "source": []
  }
 ],
 "metadata": {
  "kernelspec": {
   "display_name": "Python 3",
   "language": "python",
   "name": "python3"
  },
  "language_info": {
   "codemirror_mode": {
    "name": "ipython",
    "version": 3
   },
   "file_extension": ".py",
   "mimetype": "text/x-python",
   "name": "python",
   "nbconvert_exporter": "python",
   "pygments_lexer": "ipython3",
   "version": "3.6.5"
  }
 },
 "nbformat": 4,
 "nbformat_minor": 2
}
